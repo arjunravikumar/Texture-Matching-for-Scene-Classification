{
 "cells": [
  {
   "cell_type": "markdown",
   "metadata": {},
   "source": [
    "# JUPYTER NOTEBOOK FOR HOMEWORK 2 - question 1\n",
    "Extracting texture features and matching them for scene classification"
   ]
  },
  {
   "cell_type": "code",
   "execution_count": null,
   "metadata": {},
   "outputs": [],
   "source": []
  },
  {
   "cell_type": "code",
   "execution_count": 6,
   "metadata": {},
   "outputs": [],
   "source": [
    "import os, glob, time, sys\n",
    "import pandas as pd\n",
    "from tqdm import tqdm\n",
    "import matplotlib.pyplot as plt \n",
    "import matplotlib.image as mpimg\n",
    "\n",
    "from skimage import io, transform\n",
    "from skimage.filters.edges import convolve\n",
    "import numpy as np\n",
    "import joblib\n",
    "\n",
    "from sklearn.cluster import MiniBatchKMeans, KMeans\n",
    "from sklearn.metrics import classification_report\n",
    "from sklearn.preprocessing import MinMaxScaler #use for data normalization\n",
    "\n",
    "from makeLMfilters import makeLMfilters\n",
    "np.random.seed(42)\n",
    "CLUSTERCOUNT = 500"
   ]
  },
  {
   "cell_type": "markdown",
   "metadata": {},
   "source": [
    "## 1. Load the training and testing images from the two .CSV files respectively"
   ]
  },
  {
   "cell_type": "code",
   "execution_count": 7,
   "metadata": {},
   "outputs": [],
   "source": [
    "#Load the data along with the class labels\n",
    "# Note, you will need to use the file folder name to determine the label of an image\n",
    "# Convert the images to grayscale and resize them to 128 x 128\n",
    "# (Optional) You might want to save your data here (to avoid repeating this step)\n",
    "\n",
    "def rgb2gray(rgb):\n",
    "    return np.dot(rgb[...,:3], [0.2989, 0.5870, 0.1140])\n",
    "\n",
    "def loadTestImages():\n",
    "    testImageArray = []\n",
    "    testImageNames = []\n",
    "    file = open(\"test250.csv\",\"r\")\n",
    "    for line in file:\n",
    "        imagePath = line.split(\",\")[0]\n",
    "        imageName = line.split(\",\")[1]\n",
    "        imageName = imageName.replace(\"\\n\",\"\")\n",
    "        if(imagePath!=\"filepath\"):\n",
    "            if os.path.isfile(os.getcwd() + '/' + imagePath):\n",
    "                img = mpimg.imread(imagePath)\n",
    "                img=transform.resize(img,(128,128))\n",
    "                testImageArray.append(img)\n",
    "                testImageNames.append(imageName)\n",
    "    return [testImageArray,testImageNames]\n",
    "\n",
    "def loadTrainImages():\n",
    "    trainImageArray = []\n",
    "    trainImageNames = []\n",
    "    file = open(\"train250.csv\",\"r\")\n",
    "    for line in file:\n",
    "        imagePath = line.split(\",\")[0]\n",
    "        imageName = line.split(\",\")[1]\n",
    "        imageName = imageName.replace(\"\\n\",\"\")\n",
    "        if(imagePath!=\"filepath\"):\n",
    "            if os.path.isfile(os.getcwd() + '/' + imagePath):\n",
    "                img = mpimg.imread(imagePath)\n",
    "                img=transform.resize(img,(128,128))\n",
    "                trainImageArray.append(img)\n",
    "                trainImageNames.append(imageName)\n",
    "    return [trainImageArray,trainImageNames]"
   ]
  },
  {
   "cell_type": "markdown",
   "metadata": {},
   "source": [
    "## 2. Apply a bank of filters and generate features for training, testing and save the dataset"
   ]
  },
  {
   "cell_type": "code",
   "execution_count": 8,
   "metadata": {},
   "outputs": [],
   "source": [
    "#. Using the overcomplete bank of filters F provided, convolve your input image with each filter in the bank\n",
    "#  (make sure you check the dimensions of the returned array)\n",
    "#\n",
    "\n",
    "def getAbsFilterResponses( F, imggray ):\n",
    "    rows, cols = imggray.shape\n",
    "    num_filters = F.shape[2]\n",
    "    responses = np.zeros((rows, cols, num_filters))\n",
    "\n",
    "    #. Convolve the input image with every filter in the bank of filters \n",
    "    #   to get a response array; take the absolute value of the values in the array\n",
    "    '*** Enter your code below'\n",
    "    convResponses = [None] * num_filters\n",
    "    for filtersIndex in range(0,num_filters):\n",
    "        fb = F[:, :,filtersIndex]\n",
    "        convResponses[filtersIndex] = convolve(imggray,fb)\n",
    "\n",
    "    for r in range(0, rows):\n",
    "        for c in range(0, cols):\n",
    "            for f in range(0, num_filters):\n",
    "                responses[r][c][f] = abs(convResponses[f][r][c])\n",
    "    return responses\n"
   ]
  },
  {
   "cell_type": "code",
   "execution_count": 9,
   "metadata": {},
   "outputs": [],
   "source": [
    "def apply_filter_bank( df, desc ):\n",
    "    F = makeLMfilters() # This creates the over-complete bank of filters F\n",
    "    X = np.array([])    # Initialize the numpy array to stack the responses for each image\n",
    "    y = df[1]              # The label for each image\n",
    "    responses = []\n",
    "    for i in range(0,len(df[0])):\n",
    "        temp = getAbsFilterResponses(F,df[0][i])\n",
    "        responses.append(temp)\n",
    "    X = np.array(responses)\n",
    "    return X, y"
   ]
  },
  {
   "cell_type": "code",
   "execution_count": 10,
   "metadata": {
    "tags": []
   },
   "outputs": [],
   "source": [
    "## generate training and testing features, save them in a pickle with joblib\n",
    "# NOTE: The code in this cell has been written for you\n",
    "# NOTE2: This process can take a VERY LONG TIME...\n",
    "#\n",
    "train = loadTrainImages()\n",
    "test = loadTestImages()\n",
    "X_train, y_train = apply_filter_bank( train, 'Training -> ' )\n",
    "X_test, y_test = apply_filter_bank( test, 'Testing -> ' )\n",
    "\n",
    "# save the dataset, pickle using joblib\n",
    "dataset = f'data.pkl'\n",
    "obj = {\n",
    "    'train': {\n",
    "        'features': X_train,\n",
    "        'label': y_train\n",
    "    },\n",
    "    'test': {\n",
    "        'features': X_test,\n",
    "        'label': y_test\n",
    "    }\n",
    "}\n",
    "\n",
    "with open( dataset, 'wb' ) as f:\n",
    "    joblib.dump( obj, f, compress=3 )"
   ]
  },
  {
   "cell_type": "markdown",
   "metadata": {},
   "source": [
    "Load back the dataset (optional)\n",
    "## 3. Run Kmeans with k=500 (recommended)\n",
    "save the model again (optional)"
   ]
  },
  {
   "cell_type": "code",
   "execution_count": 11,
   "metadata": {
    "tags": []
   },
   "outputs": [
    {
     "name": "stdout",
     "output_type": "stream",
     "text": [
      "finished loading pkl file back\n",
      "X_train shape: (250, 128, 128, 48); y_train shape: 250; X_test shape: (250, 128, 128, 48); y_test shape: 250\n"
     ]
    }
   ],
   "source": [
    "# load back the dataset (optional)\n",
    "# NOTE: The code in this cell has been written for you\n",
    "dataset = f'data.pkl'\n",
    "with open( dataset, 'rb' ) as f:\n",
    "    obj = joblib.load( f )\n",
    "print ( 'finished loading pkl file back')\n",
    "    \n",
    "X_train, y_train = obj['train']['features'], obj['train']['label']\n",
    "X_test, y_test = obj['test']['features'], obj['test']['label']\n",
    "print( f'X_train shape: {X_train.shape}; y_train shape: {len(y_train)}; X_test shape: {X_test.shape}; y_test shape: {len(y_test)}' )"
   ]
  },
  {
   "cell_type": "code",
   "execution_count": 12,
   "metadata": {
    "tags": []
   },
   "outputs": [
    {
     "name": "stdout",
     "output_type": "stream",
     "text": [
      "Training dataset shape: (4096000, 48)\n",
      "Kmeans model saved.\n"
     ]
    }
   ],
   "source": [
    "# Vectorize the training set \n",
    "# NOTE: The vectorization code has been written for you below\n",
    "reshape_X_train = X_train.reshape( -1, 48 )\n",
    "print( f'Training dataset shape: {reshape_X_train.shape}' )\n",
    "# normalize the the reshaped data (recommended to use MinMaxScaler)\n",
    "scaler = MinMaxScaler()\n",
    "scaler.fit(reshape_X_train)\n",
    "reshape_X_train = scaler.transform(reshape_X_train)\n",
    "# run kmeans (because the data is large, recommended to run minibatch kmeans)\n",
    "# NOTE: This process can take a VERY LONG TIME...\n",
    "'*** Enter your code below' \n",
    "kmeans = MiniBatchKMeans(n_clusters=CLUSTERCOUNT, random_state=0,init_size=CLUSTERCOUNT,max_iter = 500).fit(reshape_X_train)\n",
    "\n",
    "# save kmeans model (optional)\n",
    "# NOTE: The data saving code has been written for you below\n",
    "model = f'kmeans_model.pkl'\n",
    "with open( model, 'wb' ) as f:\n",
    "    joblib.dump( kmeans, f, compress=3 )\n",
    "print( f'Kmeans model saved.' )"
   ]
  },
  {
   "cell_type": "markdown",
   "metadata": {},
   "source": [
    "## 4. Generate the frequency histogram (feature) for each image"
   ]
  },
  {
   "cell_type": "code",
   "execution_count": 13,
   "metadata": {},
   "outputs": [],
   "source": [
    "# load the model (optional)\n",
    "model = f'kmeans_model.pkl'\n",
    "with open( model, 'rb' ) as f:\n",
    "    kmeans = joblib.load( f )"
   ]
  },
  {
   "cell_type": "code",
   "execution_count": 14,
   "metadata": {},
   "outputs": [],
   "source": [
    "# Given an image response (already filtered) and the kmeans model, compute its frequency histogram\n",
    "# a) Vectorize the response image\n",
    "# b) Max-min normalize the response\n",
    "# c) Predict clusters for each 48-dimensional pixel using the k-means predict function\n",
    "# d) Generate the frequency histogram by incrementing the cluster centers where each pixel belongs\n",
    "# e) Normalize the resulting frequency histogram so that it sums to 1\n",
    "def calc_freq( img, kmeans ):\n",
    "    vectorImg = img.reshape( -1, 48 )\n",
    "    scaler = MinMaxScaler()\n",
    "    scaler.fit(vectorImg)\n",
    "    vectorImg = scaler.transform(vectorImg)\n",
    "    predictedVal = kmeans.predict(vectorImg)\n",
    "    clusterFrequency = [0] * CLUSTERCOUNT\n",
    "    for val in predictedVal:\n",
    "        clusterFrequency[val] = clusterFrequency[val] + (1/len(predictedVal))\n",
    "    return clusterFrequency #this is the histogram feature representing an image"
   ]
  },
  {
   "cell_type": "code",
   "execution_count": 15,
   "metadata": {
    "tags": []
   },
   "outputs": [],
   "source": [
    "# loop through the set and call calc_freq on each image in the set (training and testing)\n",
    "trainingDataFrequency = []\n",
    "testingDataFrequency = []\n",
    "for i in range(0,len(X_train)):\n",
    "    trainingDataFrequency.append(calc_freq(X_train[i],kmeans))\n",
    "for i in range(0,len(X_test)):\n",
    "    testingDataFrequency.append(calc_freq(X_test[i],kmeans))"
   ]
  },
  {
   "cell_type": "markdown",
   "metadata": {},
   "source": [
    "## 5. Implement the \"nearest neighbor classifier\" by comparing each image in Testing with the reference training images to generate a label.\n",
    "Compare using chi-square distance measure"
   ]
  },
  {
   "cell_type": "code",
   "execution_count": 16,
   "metadata": {},
   "outputs": [],
   "source": [
    "# Implement a function to calculate chi-square distance between 2 histograms ref and img\n",
    "#\n",
    "def calc_chi_sq(ref, img):\n",
    "    dist = 0.0\n",
    "    for index in range(0,len(img)):\n",
    "        hi = ref[index]\n",
    "        hj = img[index]\n",
    "        if(hi+hj > 0):\n",
    "            dist += (((hi - hj) ** 2)/(hi+hj))\n",
    "    dist = dist*0.5\n",
    "    return dist"
   ]
  },
  {
   "cell_type": "code",
   "execution_count": 17,
   "metadata": {},
   "outputs": [],
   "source": [
    "#My classifier type which takes the median of all the similar classes \n",
    "#and compares the distance of testing data with distance of the median.\n",
    "\n",
    "clusteredDataFrequency = {}\n",
    "for i in range(0,len(trainingDataFrequency)):\n",
    "    if(y_train[i] not in clusteredDataFrequency.keys()):\n",
    "        clusteredDataFrequency[y_train[i]] = [[] for i in range(500)]\n",
    "    for j in range(0,len(trainingDataFrequency[i])):\n",
    "        clusteredDataFrequency[y_train[i]][j].append(trainingDataFrequency[i][j])\n",
    "for key in clusteredDataFrequency.keys():\n",
    "    clusteredDataFrequency[y_train[i]][j].sort()\n",
    "    for j in range(0,len(clusteredDataFrequency[key])):\n",
    "        clusteredDataFrequency[key][j] = np.median(clusteredDataFrequency[key][j])\n",
    "y_pred = [\"\" for i in range(0,len(testingDataFrequency))]\n",
    "dists = [0 for i in range(0,len(testingDataFrequency))]\n",
    "for i in range(0,len(testingDataFrequency)):\n",
    "    lowestDist = float(\"inf\")\n",
    "    prediction = \"\"\n",
    "    for key in clusteredDataFrequency.keys():\n",
    "        dist = calc_chi_sq(clusteredDataFrequency[key],testingDataFrequency[i])\n",
    "        if(lowestDist>dist):\n",
    "            lowestDist = dist\n",
    "            prediction = key\n",
    "    y_pred[i] = prediction\n",
    "    dists[i] = lowestDist"
   ]
  },
  {
   "cell_type": "code",
   "execution_count": 18,
   "metadata": {
    "tags": []
   },
   "outputs": [
    {
     "name": "stdout",
     "output_type": "stream",
     "text": [
      "Accuracy: 36.0%\n"
     ]
    }
   ],
   "source": [
    "# Using the chi-sq distances between each img in training\n",
    "# and each image in test, find the closest match for each test img in training, \n",
    "#  assign the label of the closest match to that test img\n",
    "# Your output will be 'y_pred', the array of predicted test labels.\n",
    "'*** Enter your code below'\n",
    "correct = 0\n",
    "incorrect = 0\n",
    "y_predNew = [\"\" for i in range(0,len(testingDataFrequency))]\n",
    "distsNew = [0 for i in range(0,len(testingDataFrequency))]\n",
    "for i in range(0,len(testingDataFrequency)):\n",
    "    lowestDist = float(\"inf\")\n",
    "    prediction = \"\"\n",
    "    for j in range(0,len(trainingDataFrequency)):\n",
    "        dist = calc_chi_sq(trainingDataFrequency[j],testingDataFrequency[i])\n",
    "        if(lowestDist>dist):\n",
    "            lowestDist = dist\n",
    "            prediction = y_train[j]\n",
    "    y_predNew[i] = prediction\n",
    "    distsNew[i] = lowestDist\n",
    "\n",
    "finalPredict = []\n",
    "imageClasses = list(set(y_train))\n",
    "imageClasses.sort()\n",
    "confusionMatrix = [[0 for i in range(len(imageClasses))] for j in range(len(imageClasses))]\n",
    "for i in range(len(distsNew)):\n",
    "    prediction = \"\"\n",
    "    if(distsNew[i] < dists[i]):\n",
    "        prediction = y_predNew[i]\n",
    "    else:\n",
    "        prediction = y_pred[i]\n",
    "    finalPredict.append(prediction)\n",
    "    if(prediction == y_test[i]):\n",
    "        correct +=1\n",
    "    else:\n",
    "        incorrect +=1\n",
    "    predictionIndex = imageClasses.index(prediction)\n",
    "    realIndex = imageClasses.index(y_test[i])\n",
    "    \n",
    "    confusionMatrix[predictionIndex][realIndex] = confusionMatrix[predictionIndex][realIndex]+1\n",
    "\n",
    "print(\"Accuracy: \"+(str((correct)/(correct+incorrect)*100)) + \"%\")"
   ]
  },
  {
   "cell_type": "markdown",
   "metadata": {},
   "source": [
    "## 6. Generate a class confusion matrix and print out your accuracy specifically"
   ]
  },
  {
   "cell_type": "code",
   "execution_count": 19,
   "metadata": {},
   "outputs": [
    {
     "data": {
      "image/png": "[encoded data removed]",
      "text/plain": [
       "<Figure size 504x504 with 2 Axes>"
      ]
     },
     "metadata": {
      "needs_background": "light"
     },
     "output_type": "display_data"
    }
   ],
   "source": [
    "# Using y_test (true labels on the test data) and y_pred (the predicted labels), \n",
    "#  call the appropriate library function to display your confusion matrix, \n",
    "#  ensuring that the labels corectly match up with the folder names given\n",
    "'*** Enter your code below'\n",
    "import seaborn as sn\n",
    "dataFrameConfusionMatrix = pd.DataFrame(confusionMatrix, index = [i for i in imageClasses], columns = [i for i in imageClasses])\n",
    "plt.figure(figsize = (7,7))\n",
    "sn.set(font_scale=1.4)\n",
    "sn.heatmap(dataFrameConfusionMatrix, annot=True, fmt='d', cmap=\"YlGnBu\")\n",
    "plt.ylabel('Predicted')\n",
    "plt.xlabel('Actual')\n",
    "plt.savefig('confusionMatrix.png')\n",
    "plt.show()"
   ]
  }
 ],
 "metadata": {
  "kernelspec": {
   "display_name": "Python 3",
   "language": "python",
   "name": "python3"
  },
  "language_info": {
   "codemirror_mode": {
    "name": "ipython",
    "version": 3
   },
   "file_extension": ".py",
   "mimetype": "text/x-python",
   "name": "python",
   "nbconvert_exporter": "python",
   "pygments_lexer": "ipython3",
   "version": "3.7.4"
  }
 },
 "nbformat": 4,
 "nbformat_minor": 4
}
